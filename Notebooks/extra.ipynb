{
 "cells": [
  {
   "cell_type": "markdown",
   "metadata": {},
   "source": [
    "# Extra data\n",
    "\n",
    "The following data was obtained and analyzed for comparison purposes only. "
   ]
  },
  {
   "cell_type": "code",
   "execution_count": 2,
   "metadata": {},
   "outputs": [],
   "source": [
    "# Import the necessary libraries\n",
    "\n",
    "import pandas as pd\n",
    "import numpy as np\n",
    "from bs4 import BeautifulSoup\n",
    "import re\n",
    "import requests\n",
    "import json\n",
    "import lxml.html as lh\n",
    "import requests"
   ]
  },
  {
   "cell_type": "markdown",
   "metadata": {},
   "source": [
    "### 1. Wildfires data for Brazil as a whole per month in the period 1998-2017."
   ]
  },
  {
   "cell_type": "code",
   "execution_count": 3,
   "metadata": {},
   "outputs": [],
   "source": [
    "# Impor the data\n",
    "\n",
    "fires_month = pd.read_csv(\"../Data/extra_data/1_rf_incendiosflorestais_focoscalor_brasil_1998-2017.csv\")"
   ]
  },
  {
   "cell_type": "code",
   "execution_count": 4,
   "metadata": {},
   "outputs": [],
   "source": [
    "# Separate the data into columns\n",
    "# First split the strings\n",
    "\n",
    "fires_month = fires_month[\"Ano;Mês;Número;Período\"].str.split(\";\", expand=True)"
   ]
  },
  {
   "cell_type": "code",
   "execution_count": 5,
   "metadata": {},
   "outputs": [],
   "source": [
    "# Create new column names and then drop the previous columns\n",
    "\n",
    "fires_month[\"year\"] = fires_month[0]\n",
    "fires_month[\"month\"] = fires_month[1]\n",
    "fires_month[\"number\"] = fires_month[2]\n",
    "fires_month[\"period\"] = fires_month[3]\n",
    "\n",
    "fires_month.drop(columns=[0, 1, 2, 3], inplace=True)"
   ]
  },
  {
   "cell_type": "code",
   "execution_count": 6,
   "metadata": {},
   "outputs": [],
   "source": [
    "# Eliminate the rows that do not fit\n",
    "\n",
    "fires_month = fires_month[~fires_month.year.str.contains(\"Máximo\")]"
   ]
  },
  {
   "cell_type": "code",
   "execution_count": 7,
   "metadata": {},
   "outputs": [],
   "source": [
    "fires_month = fires_month[~fires_month.year.str.contains(\"Média\")]"
   ]
  },
  {
   "cell_type": "code",
   "execution_count": 8,
   "metadata": {},
   "outputs": [],
   "source": [
    "fires_month = fires_month[~fires_month.year.str.contains(\"Mínimo\")]"
   ]
  },
  {
   "cell_type": "code",
   "execution_count": 9,
   "metadata": {},
   "outputs": [],
   "source": [
    "fires_month = fires_month[~fires_month.month.str.contains(\"Total\")]"
   ]
  },
  {
   "cell_type": "code",
   "execution_count": 10,
   "metadata": {},
   "outputs": [],
   "source": [
    "# Convert the year column into integer type\n",
    "\n",
    "fires_month[\"year\"] = fires_month.year.astype('int64')"
   ]
  },
  {
   "cell_type": "code",
   "execution_count": 11,
   "metadata": {},
   "outputs": [],
   "source": [
    "# Create a dictionary with the months id's\n",
    "\n",
    "months = {\"Janeiro\": 1, \n",
    "          \"Fevereiro\": 2, \n",
    "          \"Março\": 3, \n",
    "          \"Abril\": 4, \n",
    "          \"Maio\": 5, \n",
    "          \"Junho\": 6, \n",
    "          \"Julho\": 7, \n",
    "          \"Agosto\": 8, \n",
    "          \"Setembro\": 9, \n",
    "          \"Outubro\": 10, \n",
    "          \"Novembro\": 11, \n",
    "          \"Dezembro\": 12}"
   ]
  },
  {
   "cell_type": "code",
   "execution_count": 12,
   "metadata": {},
   "outputs": [],
   "source": [
    "# Replace the column \"month\" with month id's\n",
    "\n",
    "fires_month = fires_month.replace({\"month\": months})"
   ]
  },
  {
   "cell_type": "code",
   "execution_count": 13,
   "metadata": {},
   "outputs": [],
   "source": [
    "# Convert the month column into integer type\n",
    "\n",
    "fires_month[\"number\"] = fires_month.number.astype('int64')"
   ]
  },
  {
   "cell_type": "code",
   "execution_count": 14,
   "metadata": {},
   "outputs": [],
   "source": [
    "# Convert the period column into a date type\n",
    "\n",
    "fires_month[\"period\"] = fires_month.period.astype('datetime64[ns]')"
   ]
  },
  {
   "cell_type": "code",
   "execution_count": 15,
   "metadata": {},
   "outputs": [
    {
     "data": {
      "text/plain": [
       "year               int64\n",
       "month              int64\n",
       "number             int64\n",
       "period    datetime64[ns]\n",
       "dtype: object"
      ]
     },
     "execution_count": 15,
     "metadata": {},
     "output_type": "execute_result"
    }
   ],
   "source": [
    "fires_month.dtypes"
   ]
  },
  {
   "cell_type": "code",
   "execution_count": 16,
   "metadata": {},
   "outputs": [
    {
     "data": {
      "text/plain": [
       "2007    12\n",
       "2016    12\n",
       "1999    12\n",
       "2000    12\n",
       "2001    12\n",
       "2002    12\n",
       "2003    12\n",
       "2004    12\n",
       "2005    12\n",
       "2006    12\n",
       "1998    12\n",
       "2008    12\n",
       "2009    12\n",
       "2010    12\n",
       "2011    12\n",
       "2012    12\n",
       "2013    12\n",
       "2014    12\n",
       "2015    12\n",
       "2017    11\n",
       "Name: year, dtype: int64"
      ]
     },
     "execution_count": 16,
     "metadata": {},
     "output_type": "execute_result"
    }
   ],
   "source": [
    "# Verify the data for each year\n",
    "\n",
    "pd.Series(fires_month[\"year\"]).value_counts()"
   ]
  },
  {
   "cell_type": "code",
   "execution_count": 17,
   "metadata": {},
   "outputs": [],
   "source": [
    "# We can see that there are entries for each year, except december 2017"
   ]
  },
  {
   "cell_type": "code",
   "execution_count": 19,
   "metadata": {},
   "outputs": [],
   "source": [
    "# Save the data frame to a csv file\n",
    "\n",
    "fires_month.to_csv(\"../Data/extra_data/1_fires_month.csv\", index=False)"
   ]
  },
  {
   "cell_type": "markdown",
   "metadata": {},
   "source": [
    "### 2. Wildfires data for Brazil's Legal Amazon (BLA) per month in the period 1999-2019."
   ]
  },
  {
   "cell_type": "code",
   "execution_count": 20,
   "metadata": {},
   "outputs": [],
   "source": [
    "# Import the data \n",
    "\n",
    "fires_bla = pd.read_csv(\"../Data/extra_data/2_inpe_brazilian_amazon_fires_1999_2019.csv\")"
   ]
  },
  {
   "cell_type": "code",
   "execution_count": 21,
   "metadata": {},
   "outputs": [
    {
     "data": {
      "text/plain": [
       "year         0\n",
       "month        0\n",
       "state        0\n",
       "latitude     0\n",
       "longitude    0\n",
       "firespots    0\n",
       "dtype: int64"
      ]
     },
     "execution_count": 21,
     "metadata": {},
     "output_type": "execute_result"
    }
   ],
   "source": [
    "# Check for missing values\n",
    "\n",
    "fires_bla.isnull().sum()"
   ]
  },
  {
   "cell_type": "code",
   "execution_count": 22,
   "metadata": {},
   "outputs": [],
   "source": [
    "# Convert to title the states\n",
    "\n",
    "fires_bla[\"state\"] = fires_bla[\"state\"].str.title()"
   ]
  },
  {
   "cell_type": "code",
   "execution_count": 23,
   "metadata": {},
   "outputs": [
    {
     "data": {
      "text/plain": [
       "Mato Grosso    252\n",
       "Amazonas       250\n",
       "Para           250\n",
       "Rondonia       246\n",
       "Roraima        243\n",
       "Maranhao       241\n",
       "Tocantins      221\n",
       "Acre           204\n",
       "Amapa          197\n",
       "Name: state, dtype: int64"
      ]
     },
     "execution_count": 23,
     "metadata": {},
     "output_type": "execute_result"
    }
   ],
   "source": [
    "# Verify the data for each state\n",
    "\n",
    "pd.Series(fires_bla[\"state\"]).value_counts()"
   ]
  },
  {
   "cell_type": "code",
   "execution_count": 24,
   "metadata": {},
   "outputs": [],
   "source": [
    "# We can see that only 9 states are present in this data frame. \n",
    "# These states belong to Brazil's Legal Amazon (BLA), which is the largest socio-geographic division in Brazil.\n",
    "# We can also see that the number of entries for each state varies."
   ]
  },
  {
   "cell_type": "code",
   "execution_count": 25,
   "metadata": {},
   "outputs": [],
   "source": [
    "# Save the data frame to a csv file\n",
    "\n",
    "fires_bla.to_csv(\"../Data/clean_data/2_fires_bla.csv\", index=False)"
   ]
  },
  {
   "cell_type": "markdown",
   "metadata": {},
   "source": [
    "### 3. Severity of climatic phenomena El Nino and La Nina in the period 1999-2019."
   ]
  },
  {
   "cell_type": "code",
   "execution_count": 28,
   "metadata": {},
   "outputs": [],
   "source": [
    "# Import the data \n",
    "\n",
    "ninos = pd.read_csv(\"../Data/extra_data/3_el_nino_la_nina_1999_2019.csv\")"
   ]
  },
  {
   "cell_type": "code",
   "execution_count": 29,
   "metadata": {},
   "outputs": [],
   "source": [
    "# Create a dictionary with the severity level as numeric value\n",
    "\n",
    "severity_dict = {\"Weak\": 1, \n",
    "                 \"Moderate\": 2, \n",
    "                 \"Strong\": 3, \n",
    "                 \"Very Strong\": 4}"
   ]
  },
  {
   "cell_type": "code",
   "execution_count": 30,
   "metadata": {},
   "outputs": [],
   "source": [
    "# Create a new column with the severity level\n",
    "\n",
    "ninos[\"severity_level\"] = ninos[\"severity\"].map(severity_dict)"
   ]
  },
  {
   "cell_type": "code",
   "execution_count": 31,
   "metadata": {},
   "outputs": [
    {
     "data": {
      "text/html": [
       "<div>\n",
       "<style scoped>\n",
       "    .dataframe tbody tr th:only-of-type {\n",
       "        vertical-align: middle;\n",
       "    }\n",
       "\n",
       "    .dataframe tbody tr th {\n",
       "        vertical-align: top;\n",
       "    }\n",
       "\n",
       "    .dataframe thead th {\n",
       "        text-align: right;\n",
       "    }\n",
       "</style>\n",
       "<table border=\"1\" class=\"dataframe\">\n",
       "  <thead>\n",
       "    <tr style=\"text-align: right;\">\n",
       "      <th></th>\n",
       "      <th>start year</th>\n",
       "      <th>end year</th>\n",
       "      <th>phenomenon</th>\n",
       "      <th>severity</th>\n",
       "      <th>severity_level</th>\n",
       "    </tr>\n",
       "  </thead>\n",
       "  <tbody>\n",
       "    <tr>\n",
       "      <th>0</th>\n",
       "      <td>2004</td>\n",
       "      <td>2005</td>\n",
       "      <td>El Nino</td>\n",
       "      <td>Weak</td>\n",
       "      <td>1</td>\n",
       "    </tr>\n",
       "    <tr>\n",
       "      <th>1</th>\n",
       "      <td>2006</td>\n",
       "      <td>2007</td>\n",
       "      <td>El Nino</td>\n",
       "      <td>Weak</td>\n",
       "      <td>1</td>\n",
       "    </tr>\n",
       "    <tr>\n",
       "      <th>2</th>\n",
       "      <td>2014</td>\n",
       "      <td>2015</td>\n",
       "      <td>El Nino</td>\n",
       "      <td>Weak</td>\n",
       "      <td>1</td>\n",
       "    </tr>\n",
       "    <tr>\n",
       "      <th>3</th>\n",
       "      <td>2018</td>\n",
       "      <td>2019</td>\n",
       "      <td>El Nino</td>\n",
       "      <td>Weak</td>\n",
       "      <td>1</td>\n",
       "    </tr>\n",
       "    <tr>\n",
       "      <th>4</th>\n",
       "      <td>2002</td>\n",
       "      <td>2003</td>\n",
       "      <td>El Nino</td>\n",
       "      <td>Moderate</td>\n",
       "      <td>2</td>\n",
       "    </tr>\n",
       "    <tr>\n",
       "      <th>5</th>\n",
       "      <td>2009</td>\n",
       "      <td>2010</td>\n",
       "      <td>El Nino</td>\n",
       "      <td>Moderate</td>\n",
       "      <td>2</td>\n",
       "    </tr>\n",
       "    <tr>\n",
       "      <th>6</th>\n",
       "      <td>2015</td>\n",
       "      <td>2016</td>\n",
       "      <td>El Nino</td>\n",
       "      <td>Very Strong</td>\n",
       "      <td>4</td>\n",
       "    </tr>\n",
       "    <tr>\n",
       "      <th>7</th>\n",
       "      <td>2000</td>\n",
       "      <td>2001</td>\n",
       "      <td>La Nina</td>\n",
       "      <td>Weak</td>\n",
       "      <td>1</td>\n",
       "    </tr>\n",
       "    <tr>\n",
       "      <th>8</th>\n",
       "      <td>2005</td>\n",
       "      <td>2006</td>\n",
       "      <td>La Nina</td>\n",
       "      <td>Weak</td>\n",
       "      <td>1</td>\n",
       "    </tr>\n",
       "    <tr>\n",
       "      <th>9</th>\n",
       "      <td>2008</td>\n",
       "      <td>2009</td>\n",
       "      <td>La Nina</td>\n",
       "      <td>Weak</td>\n",
       "      <td>1</td>\n",
       "    </tr>\n",
       "    <tr>\n",
       "      <th>10</th>\n",
       "      <td>2016</td>\n",
       "      <td>2017</td>\n",
       "      <td>La Nina</td>\n",
       "      <td>Weak</td>\n",
       "      <td>1</td>\n",
       "    </tr>\n",
       "    <tr>\n",
       "      <th>11</th>\n",
       "      <td>2017</td>\n",
       "      <td>2018</td>\n",
       "      <td>La Nina</td>\n",
       "      <td>Weak</td>\n",
       "      <td>1</td>\n",
       "    </tr>\n",
       "    <tr>\n",
       "      <th>12</th>\n",
       "      <td>2011</td>\n",
       "      <td>2012</td>\n",
       "      <td>La Nina</td>\n",
       "      <td>Moderate</td>\n",
       "      <td>2</td>\n",
       "    </tr>\n",
       "    <tr>\n",
       "      <th>13</th>\n",
       "      <td>1999</td>\n",
       "      <td>2000</td>\n",
       "      <td>La Nina</td>\n",
       "      <td>Strong</td>\n",
       "      <td>3</td>\n",
       "    </tr>\n",
       "    <tr>\n",
       "      <th>14</th>\n",
       "      <td>2007</td>\n",
       "      <td>2008</td>\n",
       "      <td>La Nina</td>\n",
       "      <td>Strong</td>\n",
       "      <td>3</td>\n",
       "    </tr>\n",
       "    <tr>\n",
       "      <th>15</th>\n",
       "      <td>2010</td>\n",
       "      <td>2011</td>\n",
       "      <td>La Nina</td>\n",
       "      <td>Strong</td>\n",
       "      <td>3</td>\n",
       "    </tr>\n",
       "  </tbody>\n",
       "</table>\n",
       "</div>"
      ],
      "text/plain": [
       "    start year  end year phenomenon     severity  severity_level\n",
       "0         2004      2005    El Nino         Weak               1\n",
       "1         2006      2007    El Nino         Weak               1\n",
       "2         2014      2015    El Nino         Weak               1\n",
       "3         2018      2019    El Nino         Weak               1\n",
       "4         2002      2003    El Nino     Moderate               2\n",
       "5         2009      2010    El Nino     Moderate               2\n",
       "6         2015      2016    El Nino  Very Strong               4\n",
       "7         2000      2001    La Nina         Weak               1\n",
       "8         2005      2006    La Nina         Weak               1\n",
       "9         2008      2009    La Nina         Weak               1\n",
       "10        2016      2017    La Nina         Weak               1\n",
       "11        2017      2018    La Nina         Weak               1\n",
       "12        2011      2012    La Nina     Moderate               2\n",
       "13        1999      2000    La Nina       Strong               3\n",
       "14        2007      2008    La Nina       Strong               3\n",
       "15        2010      2011    La Nina       Strong               3"
      ]
     },
     "execution_count": 31,
     "metadata": {},
     "output_type": "execute_result"
    }
   ],
   "source": [
    "ninos"
   ]
  },
  {
   "cell_type": "code",
   "execution_count": 32,
   "metadata": {},
   "outputs": [],
   "source": [
    "# Save the data frame to a csv file\n",
    "\n",
    "ninos.to_csv(\"../Data/extra_data/3_ninos.csv\", index=False)"
   ]
  },
  {
   "cell_type": "code",
   "execution_count": null,
   "metadata": {},
   "outputs": [],
   "source": []
  }
 ],
 "metadata": {
  "kernelspec": {
   "display_name": "Python 3",
   "language": "python",
   "name": "python3"
  },
  "language_info": {
   "codemirror_mode": {
    "name": "ipython",
    "version": 3
   },
   "file_extension": ".py",
   "mimetype": "text/x-python",
   "name": "python",
   "nbconvert_exporter": "python",
   "pygments_lexer": "ipython3",
   "version": "3.8.2"
  }
 },
 "nbformat": 4,
 "nbformat_minor": 4
}
