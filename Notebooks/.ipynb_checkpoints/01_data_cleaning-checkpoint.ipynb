{
 "cells": [
  {
   "cell_type": "markdown",
   "metadata": {},
   "source": [
    "# Wildfires in Brazil\n",
    "\n",
    "## Data cleaning\n",
    "\n",
    "Data regarding wildfires, deforestation and precipitation in Brazil was loaded into data frames and cleaned accordingly.\n",
    "\n",
    "The following data was found:\n",
    "\n",
    "1. Wildfires data for each state in Brazil per month in the period 1998-2017. Source: PORTAL BRASILEIRO DE DADOS ABERTOS.\n",
    "2. Wildfires data for Brazil as a whole per month in the period 1998-2017. Source: PORTAL BRASILEIRO DE DADOS ABERTOS.\n",
    "3. Wildfires data detected through satellite images. Source: Banco de Dados de Quemaidas.\n",
    "4. xx\n",
    "5. xx\n",
    "6. xx\n",
    "7. Temperature in Brazil in the period 1991-2016. Source: World Bank Data https://climateknowledgeportal.worldbank.org/download-data"
   ]
  },
  {
   "cell_type": "code",
   "execution_count": 1,
   "metadata": {},
   "outputs": [],
   "source": [
    "# Import the necessary libraries\n",
    "\n",
    "import pandas as pd\n",
    "import numpy as np\n",
    "from bs4 import BeautifulSoup\n",
    "import re\n",
    "import requests\n",
    "import json"
   ]
  },
  {
   "cell_type": "markdown",
   "metadata": {},
   "source": [
    "### 1. Wildfires data for each state in Brazil per month in the period 1998-2017."
   ]
  },
  {
   "cell_type": "code",
   "execution_count": 2,
   "metadata": {},
   "outputs": [],
   "source": [
    "# Import the data \n",
    "\n",
    "fires_year_state = pd.read_csv(\"../Data/rf_incendiosflorestais_focoscalor_estados_1998-2017.csv\")"
   ]
  },
  {
   "cell_type": "code",
   "execution_count": 3,
   "metadata": {},
   "outputs": [
    {
     "data": {
      "text/plain": [
       "year      0\n",
       "state     0\n",
       "month     0\n",
       "number    0\n",
       "date      0\n",
       "dtype: int64"
      ]
     },
     "execution_count": 3,
     "metadata": {},
     "output_type": "execute_result"
    }
   ],
   "source": [
    "# Check for missing values\n",
    "\n",
    "fires_year_state.isnull().sum()"
   ]
  },
  {
   "cell_type": "code",
   "execution_count": 4,
   "metadata": {},
   "outputs": [],
   "source": [
    "# Convert \"number\" column to integer\n",
    "\n",
    "fires_year_state[\"number\"] = fires_year_state.number.astype('int64')"
   ]
  },
  {
   "cell_type": "code",
   "execution_count": 5,
   "metadata": {},
   "outputs": [
    {
     "data": {
      "text/plain": [
       "array(['Janeiro', 'Fevereiro', 'Março', 'Abril', 'Maio', 'Junho', 'Julho',\n",
       "       'Agosto', 'Setembro', 'Outubro', 'Novembro', 'Dezembro'],\n",
       "      dtype=object)"
      ]
     },
     "execution_count": 5,
     "metadata": {},
     "output_type": "execute_result"
    }
   ],
   "source": [
    "# Replace the column \"month\" with month id's\n",
    "# First check the spelling of the months in Portuguese\n",
    "\n",
    "fires_year_state[\"month\"].unique()"
   ]
  },
  {
   "cell_type": "code",
   "execution_count": 6,
   "metadata": {},
   "outputs": [],
   "source": [
    "# Create a dictionary with the months id's\n",
    "\n",
    "months = {\"Janeiro\": 1, \n",
    "          \"Fevereiro\": 2, \n",
    "          \"Março\": 3, \n",
    "          \"Abril\": 4, \n",
    "          \"Maio\": 5, \n",
    "          \"Junho\": 6, \n",
    "          \"Julho\": 7, \n",
    "          \"Agosto\": 8, \n",
    "          \"Setembro\": 9, \n",
    "          \"Outubro\": 10, \n",
    "          \"Novembro\": 11, \n",
    "          \"Dezembro\": 12}"
   ]
  },
  {
   "cell_type": "code",
   "execution_count": 7,
   "metadata": {},
   "outputs": [],
   "source": [
    "# Replace the column \"month\" with month id's\n",
    "\n",
    "fires_year_state = fires_year_state.replace({\"month\": months})"
   ]
  },
  {
   "cell_type": "code",
   "execution_count": 8,
   "metadata": {},
   "outputs": [],
   "source": [
    "# Create a new column with country name\n",
    "\n",
    "fires_year_state[\"country\"] = \"Brazil\""
   ]
  },
  {
   "cell_type": "code",
   "execution_count": 9,
   "metadata": {},
   "outputs": [
    {
     "data": {
      "text/html": [
       "<div>\n",
       "<style scoped>\n",
       "    .dataframe tbody tr th:only-of-type {\n",
       "        vertical-align: middle;\n",
       "    }\n",
       "\n",
       "    .dataframe tbody tr th {\n",
       "        vertical-align: top;\n",
       "    }\n",
       "\n",
       "    .dataframe thead th {\n",
       "        text-align: right;\n",
       "    }\n",
       "</style>\n",
       "<table border=\"1\" class=\"dataframe\">\n",
       "  <thead>\n",
       "    <tr style=\"text-align: right;\">\n",
       "      <th></th>\n",
       "      <th>year</th>\n",
       "      <th>state</th>\n",
       "      <th>month</th>\n",
       "      <th>number</th>\n",
       "      <th>date</th>\n",
       "      <th>country</th>\n",
       "    </tr>\n",
       "  </thead>\n",
       "  <tbody>\n",
       "    <tr>\n",
       "      <th>0</th>\n",
       "      <td>1998</td>\n",
       "      <td>Acre</td>\n",
       "      <td>1</td>\n",
       "      <td>0</td>\n",
       "      <td>01-01-98</td>\n",
       "      <td>Brazil</td>\n",
       "    </tr>\n",
       "    <tr>\n",
       "      <th>1</th>\n",
       "      <td>1999</td>\n",
       "      <td>Acre</td>\n",
       "      <td>1</td>\n",
       "      <td>0</td>\n",
       "      <td>01-01-99</td>\n",
       "      <td>Brazil</td>\n",
       "    </tr>\n",
       "    <tr>\n",
       "      <th>2</th>\n",
       "      <td>2000</td>\n",
       "      <td>Acre</td>\n",
       "      <td>1</td>\n",
       "      <td>0</td>\n",
       "      <td>01-01-00</td>\n",
       "      <td>Brazil</td>\n",
       "    </tr>\n",
       "    <tr>\n",
       "      <th>3</th>\n",
       "      <td>2001</td>\n",
       "      <td>Acre</td>\n",
       "      <td>1</td>\n",
       "      <td>0</td>\n",
       "      <td>01-01-01</td>\n",
       "      <td>Brazil</td>\n",
       "    </tr>\n",
       "    <tr>\n",
       "      <th>4</th>\n",
       "      <td>2002</td>\n",
       "      <td>Acre</td>\n",
       "      <td>1</td>\n",
       "      <td>0</td>\n",
       "      <td>01-01-02</td>\n",
       "      <td>Brazil</td>\n",
       "    </tr>\n",
       "    <tr>\n",
       "      <th>...</th>\n",
       "      <td>...</td>\n",
       "      <td>...</td>\n",
       "      <td>...</td>\n",
       "      <td>...</td>\n",
       "      <td>...</td>\n",
       "      <td>...</td>\n",
       "    </tr>\n",
       "    <tr>\n",
       "      <th>6448</th>\n",
       "      <td>2012</td>\n",
       "      <td>Tocantins</td>\n",
       "      <td>12</td>\n",
       "      <td>128</td>\n",
       "      <td>01-01-12</td>\n",
       "      <td>Brazil</td>\n",
       "    </tr>\n",
       "    <tr>\n",
       "      <th>6449</th>\n",
       "      <td>2013</td>\n",
       "      <td>Tocantins</td>\n",
       "      <td>12</td>\n",
       "      <td>85</td>\n",
       "      <td>01-01-13</td>\n",
       "      <td>Brazil</td>\n",
       "    </tr>\n",
       "    <tr>\n",
       "      <th>6450</th>\n",
       "      <td>2014</td>\n",
       "      <td>Tocantins</td>\n",
       "      <td>12</td>\n",
       "      <td>223</td>\n",
       "      <td>01-01-14</td>\n",
       "      <td>Brazil</td>\n",
       "    </tr>\n",
       "    <tr>\n",
       "      <th>6451</th>\n",
       "      <td>2015</td>\n",
       "      <td>Tocantins</td>\n",
       "      <td>12</td>\n",
       "      <td>373</td>\n",
       "      <td>01-01-15</td>\n",
       "      <td>Brazil</td>\n",
       "    </tr>\n",
       "    <tr>\n",
       "      <th>6452</th>\n",
       "      <td>2016</td>\n",
       "      <td>Tocantins</td>\n",
       "      <td>12</td>\n",
       "      <td>119</td>\n",
       "      <td>01-01-16</td>\n",
       "      <td>Brazil</td>\n",
       "    </tr>\n",
       "  </tbody>\n",
       "</table>\n",
       "<p>6453 rows × 6 columns</p>\n",
       "</div>"
      ],
      "text/plain": [
       "      year      state  month  number      date country\n",
       "0     1998       Acre      1       0  01-01-98  Brazil\n",
       "1     1999       Acre      1       0  01-01-99  Brazil\n",
       "2     2000       Acre      1       0  01-01-00  Brazil\n",
       "3     2001       Acre      1       0  01-01-01  Brazil\n",
       "4     2002       Acre      1       0  01-01-02  Brazil\n",
       "...    ...        ...    ...     ...       ...     ...\n",
       "6448  2012  Tocantins     12     128  01-01-12  Brazil\n",
       "6449  2013  Tocantins     12      85  01-01-13  Brazil\n",
       "6450  2014  Tocantins     12     223  01-01-14  Brazil\n",
       "6451  2015  Tocantins     12     373  01-01-15  Brazil\n",
       "6452  2016  Tocantins     12     119  01-01-16  Brazil\n",
       "\n",
       "[6453 rows x 6 columns]"
      ]
     },
     "execution_count": 9,
     "metadata": {},
     "output_type": "execute_result"
    }
   ],
   "source": [
    "fires_year_state"
   ]
  },
  {
   "cell_type": "code",
   "execution_count": 10,
   "metadata": {},
   "outputs": [
    {
     "data": {
      "text/plain": [
       "Roraima                239\n",
       "Alagoas                239\n",
       "Amazonas               239\n",
       "Rio Grande do Norte    239\n",
       "Sao Paulo              239\n",
       "Piauí                  239\n",
       "Rio de Janeiro         239\n",
       "Goias                  239\n",
       "Mato Grosso            239\n",
       "Rondonia               239\n",
       "Paraiba                239\n",
       "Ceara                  239\n",
       "Tocantins              239\n",
       "Rio Grande do Sul      239\n",
       "Sergipe                239\n",
       "Santa Catarina         239\n",
       "Paraná                 239\n",
       "Acre                   239\n",
       "Distrito Federal       239\n",
       "Pará                   239\n",
       "Mato Grosso do Sul     239\n",
       "Amapa                  239\n",
       "Minas Gerais           239\n",
       "Espirito Santo         239\n",
       "Maranhao               239\n",
       "Pernambuco             239\n",
       "Bahia                  239\n",
       "Name: state, dtype: int64"
      ]
     },
     "execution_count": 10,
     "metadata": {},
     "output_type": "execute_result"
    }
   ],
   "source": [
    "# Verify the data for each state\n",
    "\n",
    "pd.Series(fires_year_state[\"state\"]).value_counts()"
   ]
  },
  {
   "cell_type": "code",
   "execution_count": 11,
   "metadata": {},
   "outputs": [],
   "source": [
    "# We can see that Brazil's 27 states are present, and all states have the same entries"
   ]
  },
  {
   "cell_type": "code",
   "execution_count": 12,
   "metadata": {},
   "outputs": [
    {
     "data": {
      "text/html": [
       "<div>\n",
       "<style scoped>\n",
       "    .dataframe tbody tr th:only-of-type {\n",
       "        vertical-align: middle;\n",
       "    }\n",
       "\n",
       "    .dataframe tbody tr th {\n",
       "        vertical-align: top;\n",
       "    }\n",
       "\n",
       "    .dataframe thead th {\n",
       "        text-align: right;\n",
       "    }\n",
       "</style>\n",
       "<table border=\"1\" class=\"dataframe\">\n",
       "  <thead>\n",
       "    <tr style=\"text-align: right;\">\n",
       "      <th></th>\n",
       "      <th>year</th>\n",
       "      <th>state</th>\n",
       "      <th>month</th>\n",
       "      <th>number</th>\n",
       "      <th>date</th>\n",
       "      <th>country</th>\n",
       "    </tr>\n",
       "  </thead>\n",
       "  <tbody>\n",
       "    <tr>\n",
       "      <th>0</th>\n",
       "      <td>1998</td>\n",
       "      <td>Acre</td>\n",
       "      <td>1</td>\n",
       "      <td>0</td>\n",
       "      <td>01-01-98</td>\n",
       "      <td>Brazil</td>\n",
       "    </tr>\n",
       "    <tr>\n",
       "      <th>1</th>\n",
       "      <td>1999</td>\n",
       "      <td>Acre</td>\n",
       "      <td>1</td>\n",
       "      <td>0</td>\n",
       "      <td>01-01-99</td>\n",
       "      <td>Brazil</td>\n",
       "    </tr>\n",
       "    <tr>\n",
       "      <th>2</th>\n",
       "      <td>2000</td>\n",
       "      <td>Acre</td>\n",
       "      <td>1</td>\n",
       "      <td>0</td>\n",
       "      <td>01-01-00</td>\n",
       "      <td>Brazil</td>\n",
       "    </tr>\n",
       "    <tr>\n",
       "      <th>3</th>\n",
       "      <td>2001</td>\n",
       "      <td>Acre</td>\n",
       "      <td>1</td>\n",
       "      <td>0</td>\n",
       "      <td>01-01-01</td>\n",
       "      <td>Brazil</td>\n",
       "    </tr>\n",
       "    <tr>\n",
       "      <th>4</th>\n",
       "      <td>2002</td>\n",
       "      <td>Acre</td>\n",
       "      <td>1</td>\n",
       "      <td>0</td>\n",
       "      <td>01-01-02</td>\n",
       "      <td>Brazil</td>\n",
       "    </tr>\n",
       "    <tr>\n",
       "      <th>...</th>\n",
       "      <td>...</td>\n",
       "      <td>...</td>\n",
       "      <td>...</td>\n",
       "      <td>...</td>\n",
       "      <td>...</td>\n",
       "      <td>...</td>\n",
       "    </tr>\n",
       "    <tr>\n",
       "      <th>6448</th>\n",
       "      <td>2012</td>\n",
       "      <td>Tocantins</td>\n",
       "      <td>12</td>\n",
       "      <td>128</td>\n",
       "      <td>01-01-12</td>\n",
       "      <td>Brazil</td>\n",
       "    </tr>\n",
       "    <tr>\n",
       "      <th>6449</th>\n",
       "      <td>2013</td>\n",
       "      <td>Tocantins</td>\n",
       "      <td>12</td>\n",
       "      <td>85</td>\n",
       "      <td>01-01-13</td>\n",
       "      <td>Brazil</td>\n",
       "    </tr>\n",
       "    <tr>\n",
       "      <th>6450</th>\n",
       "      <td>2014</td>\n",
       "      <td>Tocantins</td>\n",
       "      <td>12</td>\n",
       "      <td>223</td>\n",
       "      <td>01-01-14</td>\n",
       "      <td>Brazil</td>\n",
       "    </tr>\n",
       "    <tr>\n",
       "      <th>6451</th>\n",
       "      <td>2015</td>\n",
       "      <td>Tocantins</td>\n",
       "      <td>12</td>\n",
       "      <td>373</td>\n",
       "      <td>01-01-15</td>\n",
       "      <td>Brazil</td>\n",
       "    </tr>\n",
       "    <tr>\n",
       "      <th>6452</th>\n",
       "      <td>2016</td>\n",
       "      <td>Tocantins</td>\n",
       "      <td>12</td>\n",
       "      <td>119</td>\n",
       "      <td>01-01-16</td>\n",
       "      <td>Brazil</td>\n",
       "    </tr>\n",
       "  </tbody>\n",
       "</table>\n",
       "<p>6453 rows × 6 columns</p>\n",
       "</div>"
      ],
      "text/plain": [
       "      year      state  month  number      date country\n",
       "0     1998       Acre      1       0  01-01-98  Brazil\n",
       "1     1999       Acre      1       0  01-01-99  Brazil\n",
       "2     2000       Acre      1       0  01-01-00  Brazil\n",
       "3     2001       Acre      1       0  01-01-01  Brazil\n",
       "4     2002       Acre      1       0  01-01-02  Brazil\n",
       "...    ...        ...    ...     ...       ...     ...\n",
       "6448  2012  Tocantins     12     128  01-01-12  Brazil\n",
       "6449  2013  Tocantins     12      85  01-01-13  Brazil\n",
       "6450  2014  Tocantins     12     223  01-01-14  Brazil\n",
       "6451  2015  Tocantins     12     373  01-01-15  Brazil\n",
       "6452  2016  Tocantins     12     119  01-01-16  Brazil\n",
       "\n",
       "[6453 rows x 6 columns]"
      ]
     },
     "execution_count": 12,
     "metadata": {},
     "output_type": "execute_result"
    }
   ],
   "source": [
    "fires_year_state"
   ]
  },
  {
   "cell_type": "code",
   "execution_count": 13,
   "metadata": {},
   "outputs": [],
   "source": [
    "# Save the data frame to a csv file\n",
    "\n",
    "fires_year_state.to_csv(\"../Data/clean_data/fires_year_state.csv\", index=False)"
   ]
  },
  {
   "cell_type": "markdown",
   "metadata": {},
   "source": [
    "### 2. Wildfires data for Brazil as a whole per month in the period 1998-2017."
   ]
  },
  {
   "cell_type": "code",
   "execution_count": null,
   "metadata": {},
   "outputs": [],
   "source": [
    "# Impor the data\n",
    "\n",
    "fires_month = pd.read_csv(\"../Data/rf_incendiosflorestais_focoscalor_brasil_1998-2017.csv\")"
   ]
  },
  {
   "cell_type": "code",
   "execution_count": null,
   "metadata": {},
   "outputs": [],
   "source": [
    "# Separate the data into columns\n",
    "# First split the strings\n",
    "\n",
    "fires_month = fires_month[\"Ano;Mês;Número;Período\"].str.split(\";\", expand=True)"
   ]
  },
  {
   "cell_type": "code",
   "execution_count": null,
   "metadata": {},
   "outputs": [],
   "source": [
    "# Create new column names and then drop the previous columns\n",
    "\n",
    "fires_month[\"year\"] = fires_month[0]\n",
    "fires_month[\"month\"] = fires_month[1]\n",
    "fires_month[\"number\"] = fires_month[2]\n",
    "fires_month[\"period\"] = fires_month[3]\n",
    "\n",
    "fires_month.drop(columns=[0, 1, 2, 3], inplace=True)"
   ]
  },
  {
   "cell_type": "code",
   "execution_count": null,
   "metadata": {},
   "outputs": [],
   "source": [
    "# Eliminate the rows that do not fit\n",
    "\n",
    "fires_month = fires_month[~fires_month.year.str.contains(\"Máximo\")]"
   ]
  },
  {
   "cell_type": "code",
   "execution_count": null,
   "metadata": {},
   "outputs": [],
   "source": [
    "fires_month = fires_month[~fires_month.year.str.contains(\"Média\")]"
   ]
  },
  {
   "cell_type": "code",
   "execution_count": null,
   "metadata": {},
   "outputs": [],
   "source": [
    "fires_month = fires_month[~fires_month.year.str.contains(\"Mínimo\")]"
   ]
  },
  {
   "cell_type": "code",
   "execution_count": null,
   "metadata": {},
   "outputs": [],
   "source": [
    "fires_month = fires_month[~fires_month.month.str.contains(\"Total\")]"
   ]
  },
  {
   "cell_type": "code",
   "execution_count": null,
   "metadata": {},
   "outputs": [],
   "source": [
    "# Convert the year column into integer type\n",
    "\n",
    "fires_month[\"year\"] = fires_month.year.astype('int64')"
   ]
  },
  {
   "cell_type": "code",
   "execution_count": null,
   "metadata": {},
   "outputs": [],
   "source": [
    "# Create a dictionary with the months id's\n",
    "\n",
    "months = {\"Janeiro\": 1, \n",
    "          \"Fevereiro\": 2, \n",
    "          \"Março\": 3, \n",
    "          \"Abril\": 4, \n",
    "          \"Maio\": 5, \n",
    "          \"Junho\": 6, \n",
    "          \"Julho\": 7, \n",
    "          \"Agosto\": 8, \n",
    "          \"Setembro\": 9, \n",
    "          \"Outubro\": 10, \n",
    "          \"Novembro\": 11, \n",
    "          \"Dezembro\": 12}"
   ]
  },
  {
   "cell_type": "code",
   "execution_count": null,
   "metadata": {},
   "outputs": [],
   "source": [
    "# Replace the column \"month\" with month id's\n",
    "\n",
    "fires_month = fires_month.replace({\"month\": months})"
   ]
  },
  {
   "cell_type": "code",
   "execution_count": null,
   "metadata": {},
   "outputs": [],
   "source": [
    "# Convert the month column into integer type\n",
    "\n",
    "fires_month[\"number\"] = fires_month.number.astype('int64')"
   ]
  },
  {
   "cell_type": "code",
   "execution_count": null,
   "metadata": {},
   "outputs": [],
   "source": [
    "# Convert the period column into a date type\n",
    "\n",
    "fires_month[\"period\"] = fires_month.period.astype('datetime64[ns]')"
   ]
  },
  {
   "cell_type": "code",
   "execution_count": null,
   "metadata": {},
   "outputs": [],
   "source": [
    "fires_month.dtypes"
   ]
  },
  {
   "cell_type": "code",
   "execution_count": null,
   "metadata": {},
   "outputs": [],
   "source": [
    "# Verify the data for each year\n",
    "\n",
    "pd.Series(fires_month[\"year\"]).value_counts()"
   ]
  },
  {
   "cell_type": "code",
   "execution_count": null,
   "metadata": {},
   "outputs": [],
   "source": [
    "# We can see that there are entries for each year, except december 2017"
   ]
  },
  {
   "cell_type": "code",
   "execution_count": null,
   "metadata": {},
   "outputs": [],
   "source": [
    "# Save the data frame to a csv file\n",
    "\n",
    "fires_month.to_csv(\"../Data/clean_data/fires_month.csv\", index=False)"
   ]
  },
  {
   "cell_type": "markdown",
   "metadata": {},
   "source": [
    "### 3. Wildfires data for Brazil's Legal Amazon (BLA) per month in the period 1999-2019."
   ]
  },
  {
   "cell_type": "code",
   "execution_count": null,
   "metadata": {},
   "outputs": [],
   "source": [
    "# Import the data \n",
    "\n",
    "fires_bla = pd.read_csv(\"../Data/inpe_brazilian_amazon_fires_1999_2019.csv\")"
   ]
  },
  {
   "cell_type": "code",
   "execution_count": null,
   "metadata": {},
   "outputs": [],
   "source": [
    "# Check for missing values\n",
    "\n",
    "fires_bla.isnull().sum()"
   ]
  },
  {
   "cell_type": "code",
   "execution_count": null,
   "metadata": {},
   "outputs": [],
   "source": [
    "# Convert to title the states\n",
    "\n",
    "fires_bla[\"state\"] = fires_bla[\"state\"].str.title()"
   ]
  },
  {
   "cell_type": "code",
   "execution_count": null,
   "metadata": {},
   "outputs": [],
   "source": [
    "# Verify the data for each state\n",
    "\n",
    "pd.Series(fires_bla[\"state\"]).value_counts()"
   ]
  },
  {
   "cell_type": "code",
   "execution_count": null,
   "metadata": {},
   "outputs": [],
   "source": [
    "# We can see that only 9 states are present in this data frame. \n",
    "# These states belong to Brazil's Legal Amazon (BLA), which is the largest socio-geographic division in Brazil.\n",
    "# We can also see that the number of entries for each state varies."
   ]
  },
  {
   "cell_type": "code",
   "execution_count": null,
   "metadata": {},
   "outputs": [],
   "source": [
    "# Save the data frame to a csv file\n",
    "\n",
    "fires_bla.to_csv(\"../Data/clean_data/fires_bla.csv\", index=False)"
   ]
  },
  {
   "cell_type": "markdown",
   "metadata": {},
   "source": [
    "### 4. Deforestation data for Brazil's Legal Amazon (BLA) per year in the period 2004-2019."
   ]
  },
  {
   "cell_type": "code",
   "execution_count": null,
   "metadata": {},
   "outputs": [],
   "source": [
    "# Import the data\n",
    "\n",
    "url = \"http://www.obt.inpe.br/OBT/assuntos/programas/amazonia/prodes\""
   ]
  },
  {
   "cell_type": "code",
   "execution_count": null,
   "metadata": {},
   "outputs": [],
   "source": [
    "html = requests.get(url).content"
   ]
  },
  {
   "cell_type": "code",
   "execution_count": null,
   "metadata": {},
   "outputs": [],
   "source": [
    "soup = BeautifulSoup(html, \"html.parser\")"
   ]
  },
  {
   "cell_type": "code",
   "execution_count": null,
   "metadata": {},
   "outputs": [],
   "source": [
    "soup"
   ]
  },
  {
   "cell_type": "code",
   "execution_count": null,
   "metadata": {},
   "outputs": [],
   "source": [
    "col_values = [items.text for items in (soup\n",
    "                                       .find('div', id_='wrapper')\n",
    "                                       .find('div', id_='main')\n",
    "                                       .find_all('table')[0]\n",
    "                                       .find_all('td',{'style':'text-align: left;'}))]\n",
    "\n",
    "col_keys = [items.text[:-1] for items in (soup\n",
    "                                       .find('div', id_='wrapper')\n",
    "                                       .find('div', id_='main')\n",
    "                                       .find_all('table')[0]\n",
    "                                       .find_all('td',{'style':'text-align: left;'}))]\n",
    "\n",
    "names_dict = dict(zip(col_keys, col_values))"
   ]
  },
  {
   "cell_type": "markdown",
   "metadata": {},
   "source": [
    "### 5. Precipitation data for Brazil's Legal Amazon (BLA) per year in the period 2004-2019."
   ]
  },
  {
   "cell_type": "code",
   "execution_count": null,
   "metadata": {},
   "outputs": [],
   "source": [
    "# Import the data \n",
    "\n",
    "precip = pd.read_csv(\"../Data/precipitation.csv\")"
   ]
  },
  {
   "cell_type": "code",
   "execution_count": null,
   "metadata": {},
   "outputs": [],
   "source": [
    "# Check for missing values\n",
    "\n",
    "precip.isnull().sum()"
   ]
  },
  {
   "cell_type": "code",
   "execution_count": null,
   "metadata": {},
   "outputs": [],
   "source": [
    "precip.columns"
   ]
  },
  {
   "cell_type": "code",
   "execution_count": null,
   "metadata": {},
   "outputs": [],
   "source": [
    "precip[\"state\"].unique()"
   ]
  },
  {
   "cell_type": "code",
   "execution_count": null,
   "metadata": {},
   "outputs": [],
   "source": [
    "# Create a dictionary with the states id's\n",
    "\n",
    "states = {\"BA\": \"Bahia\", \n",
    "          \"RR\": \"Roraima\", \n",
    "          \"SE\": \"Sergipe\", \n",
    "          \"AL\": \"Alagoas\", \n",
    "          \"TO\": \"Tocantins\", \n",
    "          \"GO\": \"Goias\", \n",
    "          \"PI\": \"Piauí\", \n",
    "          \"MG\": \"Minas Gerais\", \n",
    "          \"PR\": \"Paraná\", \n",
    "          \"MA\": \"Maranhao\", \n",
    "          \"AP\": \"Amapa\", \n",
    "          \"RJ\": \"Rio de Janeiro\",\n",
    "          \"AC\": \"Acre\", \n",
    "          \"AM\": \"Amazonas\", \n",
    "          \"DF\": \"Distrito Federal\", \n",
    "          \"PE\": \"Pernambuco\", \n",
    "          \"CE\": \"Ceara\", \n",
    "          \"PA\": \"Pará\", \n",
    "          \"MT\": \"Mato Grosso\", \n",
    "          \"PB\": \"Paraiba\", \n",
    "          \"RS\": \"Rio Grande do Sul\", \n",
    "          \"RN\": \"Rio Grande do Norte\", \n",
    "          \"SP\": \"Sao Paulo\", \n",
    "          \"ES\": \"Espirito Santo\", \n",
    "          \"SC\": \"Santa Catarina\"}"
   ]
  },
  {
   "cell_type": "code",
   "execution_count": null,
   "metadata": {},
   "outputs": [],
   "source": [
    "# Replace the column \"state\" with state names\n",
    "\n",
    "precip = precip.replace({\"state\": states})"
   ]
  },
  {
   "cell_type": "code",
   "execution_count": null,
   "metadata": {},
   "outputs": [],
   "source": [
    "precip[\"date\"] = precip.date.astype('datetime64[ns]')"
   ]
  },
  {
   "cell_type": "code",
   "execution_count": null,
   "metadata": {},
   "outputs": [],
   "source": [
    "precip.dtypes"
   ]
  },
  {
   "cell_type": "code",
   "execution_count": null,
   "metadata": {},
   "outputs": [],
   "source": [
    "# Get the month and year in separate columns\n",
    "\n",
    "precip['year'] = pd.DatetimeIndex(precip['date']).year\n",
    "precip['month'] = pd.DatetimeIndex(precip['date']).month"
   ]
  },
  {
   "cell_type": "code",
   "execution_count": null,
   "metadata": {},
   "outputs": [],
   "source": [
    "# Save the data frame to a csv file\n",
    "\n",
    "precip.to_csv(\"../Data/clean_data/precipitation_brazil.csv\", index=False)"
   ]
  },
  {
   "cell_type": "markdown",
   "metadata": {},
   "source": [
    "### 6. Severity of climatic phenomena El Nino and La Nina in the period 1999-2019."
   ]
  },
  {
   "cell_type": "code",
   "execution_count": null,
   "metadata": {},
   "outputs": [],
   "source": [
    "# Import the data \n",
    "\n",
    "ninos = pd.read_csv(\"../Data/el_nino_la_nina_1999_2019.csv\")"
   ]
  },
  {
   "cell_type": "code",
   "execution_count": null,
   "metadata": {},
   "outputs": [],
   "source": [
    "# Create a dictionary with the severity level as numeric value\n",
    "\n",
    "severity_dict = {\"Weak\": 1, \n",
    "                 \"Moderate\": 2, \n",
    "                 \"Strong\": 3, \n",
    "                 \"Very Strong\": 4}"
   ]
  },
  {
   "cell_type": "code",
   "execution_count": null,
   "metadata": {},
   "outputs": [],
   "source": [
    "# Create a new column with the severity level\n",
    "\n",
    "ninos[\"severity_level\"] = ninos[\"severity\"].map(severity_dict)"
   ]
  },
  {
   "cell_type": "code",
   "execution_count": null,
   "metadata": {},
   "outputs": [],
   "source": [
    "ninos"
   ]
  },
  {
   "cell_type": "code",
   "execution_count": null,
   "metadata": {},
   "outputs": [],
   "source": [
    "# Save the data frame to a csv file\n",
    "\n",
    "ninos.to_csv(\"../Data/clean_data/ninos.csv\", index=False)"
   ]
  },
  {
   "cell_type": "markdown",
   "metadata": {},
   "source": [
    "### 7. Temperature in Brazil per month from 1991 to 2016."
   ]
  },
  {
   "cell_type": "code",
   "execution_count": null,
   "metadata": {},
   "outputs": [],
   "source": [
    "# Load the data\n",
    "\n",
    "temp = pd.read_csv(\"../Data/temperature_1991_2016_BRA.csv\")"
   ]
  },
  {
   "cell_type": "code",
   "execution_count": null,
   "metadata": {},
   "outputs": [],
   "source": [
    "temp.head()"
   ]
  },
  {
   "cell_type": "code",
   "execution_count": null,
   "metadata": {},
   "outputs": [],
   "source": [
    "# Check for missing values\n",
    "\n",
    "temp.isnull().sum()"
   ]
  },
  {
   "cell_type": "code",
   "execution_count": null,
   "metadata": {},
   "outputs": [],
   "source": [
    "# Checking datatypes\n",
    "\n",
    "temp.dtypes"
   ]
  },
  {
   "cell_type": "code",
   "execution_count": null,
   "metadata": {},
   "outputs": [],
   "source": [
    "temp['month'] = temp[' Statistics'].str.replace(\" Average\",\"\")\n",
    "temp"
   ]
  },
  {
   "cell_type": "code",
   "execution_count": null,
   "metadata": {},
   "outputs": [],
   "source": [
    "# Create column month \n",
    "\n",
    "temp = temp.rename(columns = {\"Temperature - (Celsius)\" : \"temperature\", \n",
    "                              \" Year\" : \"year\",\n",
    "                              \" Country\" : \"country\"}).drop(columns = [\" Statistics\", \" ISO3\"])\n"
   ]
  },
  {
   "cell_type": "code",
   "execution_count": null,
   "metadata": {},
   "outputs": [],
   "source": [
    "temp"
   ]
  },
  {
   "cell_type": "code",
   "execution_count": null,
   "metadata": {},
   "outputs": [],
   "source": [
    "months = {\" Jan\": 1, \n",
    "          \" Feb\": 2, \n",
    "          \" Mar\": 3, \n",
    "          \" Apr\": 4, \n",
    "          \" May\": 5, \n",
    "          \" Jun\": 6, \n",
    "          \" Jul\": 7, \n",
    "          \" Aug\": 8, \n",
    "          \" Sep\": 9, \n",
    "          \" Oct\": 10, \n",
    "          \" Nov\": 11, \n",
    "          \" Dec\": 12}"
   ]
  },
  {
   "cell_type": "code",
   "execution_count": null,
   "metadata": {},
   "outputs": [],
   "source": [
    "# Replace the column \"month\" with month id's\n",
    "\n",
    "temp = temp.replace({\"month\": months})"
   ]
  },
  {
   "cell_type": "code",
   "execution_count": null,
   "metadata": {},
   "outputs": [],
   "source": [
    "temp.dtypes"
   ]
  },
  {
   "cell_type": "code",
   "execution_count": null,
   "metadata": {},
   "outputs": [],
   "source": [
    "temp"
   ]
  },
  {
   "cell_type": "code",
   "execution_count": null,
   "metadata": {},
   "outputs": [],
   "source": [
    "# Save the data frame to a csv file\n",
    "\n",
    "temp.to_csv(\"../Data/clean_data/temp_clean.csv\", index=False)"
   ]
  },
  {
   "cell_type": "markdown",
   "metadata": {},
   "source": [
    "### 8. CO2 emissions and Brazil forest area"
   ]
  }
 ],
 "metadata": {
  "kernelspec": {
   "display_name": "Python 3",
   "language": "python",
   "name": "python3"
  },
  "language_info": {
   "codemirror_mode": {
    "name": "ipython",
    "version": 3
   },
   "file_extension": ".py",
   "mimetype": "text/x-python",
   "name": "python",
   "nbconvert_exporter": "python",
   "pygments_lexer": "ipython3",
   "version": "3.8.2"
  }
 },
 "nbformat": 4,
 "nbformat_minor": 4
}
